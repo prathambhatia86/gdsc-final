{
  "nbformat": 4,
  "nbformat_minor": 0,
  "metadata": {
    "colab": {
      "provenance": []
    },
    "kernelspec": {
      "name": "python3",
      "display_name": "Python 3"
    },
    "language_info": {
      "name": "python"
    }
  },
  "cells": [
    {
      "cell_type": "code",
      "execution_count": null,
      "metadata": {
        "id": "cZtX8sMPgzIi"
      },
      "outputs": [],
      "source": [
        "import pandas as pd\n",
        "import numpy as np\n",
        "from sklearn.feature_extraction.text import CountVectorizer\n",
        "from sklearn.model_selection import train_test_split\n",
        "from sklearn.tree import DecisionTreeClassifier"
      ]
    },
    {
      "cell_type": "code",
      "source": [
        "import nltk\n",
        "nltk.download('stopwords')"
      ],
      "metadata": {
        "id": "cqtMvmiJkIou",
        "outputId": "53ce2444-47ec-4710-c510-6990721ef81f",
        "colab": {
          "base_uri": "https://localhost:8080/"
        }
      },
      "execution_count": null,
      "outputs": [
        {
          "output_type": "stream",
          "name": "stderr",
          "text": [
            "[nltk_data] Downloading package stopwords to /root/nltk_data...\n",
            "[nltk_data]   Package stopwords is already up-to-date!\n"
          ]
        },
        {
          "output_type": "execute_result",
          "data": {
            "text/plain": [
              "True"
            ]
          },
          "metadata": {},
          "execution_count": 60
        }
      ]
    },
    {
      "cell_type": "code",
      "source": [
        "import re\n",
        "import nltk\n",
        "from nltk.util import pr\n",
        "stemmer=nltk.SnowballStemmer(\"english\")\n",
        "from nltk.corpus import stopwords\n",
        "import string\n",
        "stopwords=set(stopwords.words(\"english\"))"
      ],
      "metadata": {
        "id": "1-Z0_fAVhlBa"
      },
      "execution_count": null,
      "outputs": []
    },
    {
      "cell_type": "code",
      "source": [
        "df=pd.read_csv('twitter_data.csv')"
      ],
      "metadata": {
        "id": "jMgRnKn7j11x"
      },
      "execution_count": null,
      "outputs": []
    },
    {
      "cell_type": "code",
      "source": [
        "df['labels']=df['class'].map({0:\"none\",1:\"offensive speech\",2:\"none\"})"
      ],
      "metadata": {
        "id": "qAEUT-5atJLV"
      },
      "execution_count": null,
      "outputs": []
    },
    {
      "cell_type": "code",
      "source": [
        "print(df.head())"
      ],
      "metadata": {
        "colab": {
          "base_uri": "https://localhost:8080/"
        },
        "id": "a-z6mbS8tjBh",
        "outputId": "e3f35a05-760d-4078-900b-840b4be27bd6"
      },
      "execution_count": null,
      "outputs": [
        {
          "output_type": "stream",
          "name": "stdout",
          "text": [
            "   Unnamed: 0  count  hate_speech  offensive_language  neither  class  \\\n",
            "0           0      3            0                   0        3      2   \n",
            "1           1      3            0                   3        0      1   \n",
            "2           2      3            0                   3        0      1   \n",
            "3           3      3            0                   2        1      1   \n",
            "4           4      6            0                   6        0      1   \n",
            "\n",
            "                                               tweet            labels  \n",
            "0  !!! RT @mayasolovely: As a woman you shouldn't...              none  \n",
            "1  !!!!! RT @mleew17: boy dats cold...tyga dwn ba...  offensive speech  \n",
            "2  !!!!!!! RT @UrKindOfBrand Dawg!!!! RT @80sbaby...  offensive speech  \n",
            "3  !!!!!!!!! RT @C_G_Anderson: @viva_based she lo...  offensive speech  \n",
            "4  !!!!!!!!!!!!! RT @ShenikaRoberts: The shit you...  offensive speech  \n"
          ]
        }
      ]
    },
    {
      "cell_type": "code",
      "source": [
        "def clean(text):\n",
        "  text=str(text).lower()\n",
        "  text=re.sub('\\[.*?\\]','',text)\n",
        "  text=re.sub('http?://\\S+|www\\.\\S+','',text)\n",
        "  text=re.sub('<.*?>+','',text)\n",
        "  text=re.sub('[%s]' %re.escape(string.punctuation),'',text)\n",
        "  text=re.sub('\\n','',text)\n",
        "  text=re.sub('\\w*\\d\\w*','',text)\n",
        "  text=[word for word in text.split(' ') if word not in stopwords]\n",
        "  text=\" \".join(text)\n",
        "  text=[stemmer.stem(word)for word in text.split(' ')]\n",
        "  text=\" \".join(text)\n",
        "  return text\n",
        "df[\"tweet\"]=df[\"tweet\"].apply(clean)\n",
        "print(df.head())\n"
      ],
      "metadata": {
        "id": "mc9rgbdMtykD",
        "colab": {
          "base_uri": "https://localhost:8080/"
        },
        "outputId": "7d380d64-889e-4b4e-cf24-2229b02596fb"
      },
      "execution_count": null,
      "outputs": [
        {
          "output_type": "stream",
          "name": "stdout",
          "text": [
            "   Unnamed: 0  count  hate_speech  offensive_language  neither  class  \\\n",
            "0           0      3            0                   0        3      2   \n",
            "1           1      3            0                   3        0      1   \n",
            "2           2      3            0                   3        0      1   \n",
            "3           3      3            0                   2        1      1   \n",
            "4           4      6            0                   6        0      1   \n",
            "\n",
            "                                               tweet            labels  \n",
            "0   rt mayasolov woman shouldnt complain clean ho...              none  \n",
            "1   rt  boy dat coldtyga dwn bad cuffin dat hoe  ...  offensive speech  \n",
            "2   rt urkindofbrand dawg rt  ever fuck bitch sta...  offensive speech  \n",
            "3             rt cganderson vivabas look like tranni  offensive speech  \n",
            "4   rt shenikarobert shit hear might true might f...  offensive speech  \n"
          ]
        }
      ]
    },
    {
      "cell_type": "code",
      "source": [
        "x=np.array(df[\"tweet\"])\n",
        "y=np.array(df[\"labels\"])\n",
        "cv=CountVectorizer()\n",
        "x=cv.fit_transform(x)\n",
        "x_train,x_test,y_train,y_test=train_test_split(x,y,test_size=0.2,random_state=2)\n",
        "clf=DecisionTreeClassifier()\n",
        "clf.fit(x_train,y_train)"
      ],
      "metadata": {
        "colab": {
          "base_uri": "https://localhost:8080/"
        },
        "id": "_Rqbii9TfFOC",
        "outputId": "4b5298f6-5db0-407d-d286-4c52699ac8a8"
      },
      "execution_count": null,
      "outputs": [
        {
          "output_type": "execute_result",
          "data": {
            "text/plain": [
              "DecisionTreeClassifier()"
            ]
          },
          "metadata": {},
          "execution_count": 66
        }
      ]
    },
    {
      "cell_type": "code",
      "source": [
        "test_data=\"hello guys\"\n",
        "temp=cv.transform([test_data]).toarray()\n",
        "print(clf.predict(temp))"
      ],
      "metadata": {
        "colab": {
          "base_uri": "https://localhost:8080/"
        },
        "id": "Ko3L-EXVgvmc",
        "outputId": "168bc5eb-c3c9-4e4a-d6ee-b6bb2e349d42"
      },
      "execution_count": null,
      "outputs": [
        {
          "output_type": "stream",
          "name": "stdout",
          "text": [
            "['none']\n"
          ]
        }
      ]
    },
    {
      "cell_type": "code",
      "source": [],
      "metadata": {
        "id": "iW2jgHW4p-gV"
      },
      "execution_count": null,
      "outputs": []
    }
  ]
}